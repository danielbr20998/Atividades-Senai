{
  "nbformat": 4,
  "nbformat_minor": 0,
  "metadata": {
    "colab": {
      "provenance": [],
      "authorship_tag": "ABX9TyNeZQEN/4VnGrL/jOaDO6Mr",
      "include_colab_link": true
    },
    "kernelspec": {
      "name": "python3",
      "display_name": "Python 3"
    },
    "language_info": {
      "name": "python"
    }
  },
  "cells": [
    {
      "cell_type": "markdown",
      "metadata": {
        "id": "view-in-github",
        "colab_type": "text"
      },
      "source": [
        "<a href=\"https://colab.research.google.com/github/danielbr20998/Atividades-Senai/blob/main/Atividade_8.ipynb\" target=\"_parent\"><img src=\"https://colab.research.google.com/assets/colab-badge.svg\" alt=\"Open In Colab\"/></a>"
      ]
    },
    {
      "cell_type": "code",
      "execution_count": null,
      "metadata": {
        "id": "Y6tIYoUIiqOC"
      },
      "outputs": [],
      "source": [
        "# ATV 8 = Analise de peças de produção:\n",
        "# Uma fábrica de peças mecânicas registrou sua produção de unidades\n",
        "# Ao longo de 4 semanas para 3 linhas de produção.\n",
        "# Cada linha fabrica um tipo diferente de peça\n",
        "# (A, B e C). Os dados foram organizados da seguinte forma:\n",
        "# Linhas (0 a 3): semanas 1 a 4\n",
        "# Colunas (0 a 2): peças A, B e C\n",
        "\n",
        "import statistics as st\n",
        "import numpy as np\n",
        "import random as ran"
      ]
    },
    {
      "cell_type": "code",
      "source": [
        "dados = np.random.randint(100, 301, size=(3, 4))\n",
        "print(dados)"
      ],
      "metadata": {
        "colab": {
          "base_uri": "https://localhost:8080/"
        },
        "id": "tJA7oAiIq61P",
        "outputId": "fd6ede32-c402-4bfc-a5e2-e444c7b760ec"
      },
      "execution_count": null,
      "outputs": [
        {
          "output_type": "stream",
          "name": "stdout",
          "text": [
            "[[146 232 203 266]\n",
            " [181 197 120 255]\n",
            " [192 156 142 224]]\n"
          ]
        }
      ]
    },
    {
      "cell_type": "code",
      "source": [
        "prod_A = dados[0]\n",
        "prod_B = dados[1]\n",
        "prod_C = dados[2]\n",
        "semana_1 = dados[:, 0]\n",
        "semana_2 = dados[:, 1]\n",
        "semana_3 = dados[:, 2]\n",
        "semana_4 = dados[:, 3]\n",
        "\n",
        "print(prod_A)\n",
        "print(prod_B)\n",
        "print(prod_C)\n",
        "print(semana_1)\n",
        "print(semana_2)\n",
        "print(semana_3)\n",
        "print(semana_4)"
      ],
      "metadata": {
        "colab": {
          "base_uri": "https://localhost:8080/"
        },
        "id": "dwOOtBIjD45v",
        "outputId": "e86c9880-abad-4aab-8435-ca7640e2d80a"
      },
      "execution_count": null,
      "outputs": [
        {
          "output_type": "stream",
          "name": "stdout",
          "text": [
            "[146 232 203 266]\n",
            "[181 197 120 255]\n",
            "[192 156 142 224]\n",
            "[146 181 192]\n",
            "[232 197 156]\n",
            "[203 120 142]\n",
            "[266 255 224]\n"
          ]
        }
      ]
    },
    {
      "cell_type": "code",
      "source": [
        "# Lista feita, ok\n",
        "# Produção total de cada peça ao longo das 4 semanas"
      ],
      "metadata": {
        "id": "rhBwEV_fFatU"
      },
      "execution_count": null,
      "outputs": []
    },
    {
      "cell_type": "code",
      "source": [
        "total_A = sum(prod_A)\n",
        "total_B = sum(prod_B)\n",
        "total_C = sum(prod_C)\n",
        "print('Total do produto A:', total_A)\n",
        "print('Total do produto B:', total_B)\n",
        "print('Total do produto C:', total_C)"
      ],
      "metadata": {
        "colab": {
          "base_uri": "https://localhost:8080/"
        },
        "id": "3rcQQ3eTGgYB",
        "outputId": "b23b526a-be10-4163-9d72-565a88cebfc8"
      },
      "execution_count": null,
      "outputs": [
        {
          "output_type": "stream",
          "name": "stdout",
          "text": [
            "Total do produto A: 847\n",
            "Total do produto B: 753\n",
            "Total do produto C: 714\n"
          ]
        }
      ]
    },
    {
      "cell_type": "code",
      "source": [
        "# Totais feitos, ok\n",
        "# Total de produção de peças por semana"
      ],
      "metadata": {
        "id": "rdp52W5EHEbs"
      },
      "execution_count": null,
      "outputs": []
    },
    {
      "cell_type": "code",
      "source": [
        "linhas, colunas = dados.shape\n",
        "\n",
        "somas = [0] * linhas  # Cria uma lista para armazenar a soma das médias de cada peça\n",
        "\n",
        "for i in range(linhas):\n",
        "    for j in range(colunas):\n",
        "        media = dados[i, j] / 5\n",
        "        somas[i] += media  # Acumula a média na posição da peça correspondente\n",
        "        print(f\"Média diária da peça {chr(65 + i)} na semana {j+1}: {media}\")\n",
        "\n",
        "# Exibe a soma das médias de cada peça\n",
        "for i in range(linhas):\n",
        "    print(f\"Soma das médias da peça {chr(65 + i)}: {somas[i]:.2f}\")"
      ],
      "metadata": {
        "colab": {
          "base_uri": "https://localhost:8080/"
        },
        "id": "ch04x0n4Holl",
        "outputId": "edc3866a-29dd-4831-da29-bf6a8da060f2"
      },
      "execution_count": null,
      "outputs": [
        {
          "output_type": "stream",
          "name": "stdout",
          "text": [
            "Média diária da peça A na semana 1: 29.2\n",
            "Média diária da peça A na semana 2: 46.4\n",
            "Média diária da peça A na semana 3: 40.6\n",
            "Média diária da peça A na semana 4: 53.2\n",
            "Média diária da peça B na semana 1: 36.2\n",
            "Média diária da peça B na semana 2: 39.4\n",
            "Média diária da peça B na semana 3: 24.0\n",
            "Média diária da peça B na semana 4: 51.0\n",
            "Média diária da peça C na semana 1: 38.4\n",
            "Média diária da peça C na semana 2: 31.2\n",
            "Média diária da peça C na semana 3: 28.4\n",
            "Média diária da peça C na semana 4: 44.8\n",
            "Soma das médias da peça A: 169.40\n",
            "Soma das médias da peça B: 150.60\n",
            "Soma das médias da peça C: 142.80\n"
          ]
        }
      ]
    },
    {
      "cell_type": "code",
      "source": [
        "# Total de peças classificado, ok\n",
        "# Total de produção por semana"
      ],
      "metadata": {
        "id": "YW7ba3OLJN2a"
      },
      "execution_count": null,
      "outputs": []
    },
    {
      "cell_type": "code",
      "source": [
        "semana = ['Semana 1', 'Semana 2', 'Semana 3', 'Semana 4']\n",
        "total_geral2 = [sum(semana_1), sum(semana_2), sum(semana_3), sum(semana_4)]\n",
        "print(semana, '\\n', total_geral2)\n",
        "\n",
        "maior_semana, semana_maior = max(zip(total_geral2, semana))\n",
        "print('Semana com maior produção:', semana_maior, '-', maior_semana)"
      ],
      "metadata": {
        "colab": {
          "base_uri": "https://localhost:8080/"
        },
        "id": "_DTIQl2EJ4ZT",
        "outputId": "e09a8ba0-4c19-42b5-ca4f-2149402d5ab4"
      },
      "execution_count": null,
      "outputs": [
        {
          "output_type": "stream",
          "name": "stdout",
          "text": [
            "['Semana 1', 'Semana 2', 'Semana 3', 'Semana 4'] \n",
            " [np.int64(519), np.int64(585), np.int64(465), np.int64(745)]\n",
            "Semana com maior produção: Semana 4 - 745\n"
          ]
        }
      ]
    },
    {
      "cell_type": "code",
      "source": [
        "# Total semanal, ok\n",
        "# Média semanal de cada peça"
      ],
      "metadata": {
        "id": "GNxNdZsUKt9g"
      },
      "execution_count": null,
      "outputs": []
    },
    {
      "cell_type": "code",
      "source": [
        "media_sem1 = st.mean(semana_1)\n",
        "media_sem2 = st.mean(semana_2)\n",
        "media_sem3 = st.mean(semana_3)\n",
        "media_sem4 = st.mean(semana_4)\n",
        "\n",
        "medias = {\n",
        "    'Semana 1': media_sem1,\n",
        "    'Semana 2': media_sem2,\n",
        "    'Semana 3': media_sem3,\n",
        "    'Semana 4': media_sem4\n",
        "}\n",
        "maior_semana = max(medias, key=medias.get)\n",
        "maior_media = medias[maior_semana]\n",
        "\n",
        "print(f'A maior média semanal foi {maior_media:.2f} na {maior_semana}.')"
      ],
      "metadata": {
        "colab": {
          "base_uri": "https://localhost:8080/"
        },
        "id": "WwkJtQ6hRs1D",
        "outputId": "1cc40850-bf94-40e4-fb6e-0ffb3a7c0a2f"
      },
      "execution_count": null,
      "outputs": [
        {
          "output_type": "stream",
          "name": "stdout",
          "text": [
            "A maior média semanal foi 248.00 na Semana 4.\n"
          ]
        }
      ]
    },
    {
      "cell_type": "code",
      "source": [
        "# Média semanal, ok\n",
        "# Crescimento percentual, específico da peça A(variação percentual)"
      ],
      "metadata": {
        "id": "lwHPNxT8Wh8u"
      },
      "execution_count": null,
      "outputs": []
    },
    {
      "cell_type": "code",
      "source": [
        "prod_A = dados[0]\n",
        "\n",
        "variancia1_2 = ((prod_A[1] - prod_A[0]) / prod_A[0]) * 100\n",
        "variancia2_3 = ((prod_A[2] - prod_A[1]) / prod_A[1]) * 100\n",
        "variancia3_4 = ((prod_A[3] - prod_A[2]) / prod_A[2]) * 100\n",
        "\n",
        "print(f'{variancia1_2:.2f}%', '\\n', f'{variancia2_3 :.2f}%', '\\n', f'{variancia3_4 :.2f}%')"
      ],
      "metadata": {
        "colab": {
          "base_uri": "https://localhost:8080/"
        },
        "id": "gsmWADb0XDFQ",
        "outputId": "58a38698-da34-4b9b-c654-6c080ef6443b"
      },
      "execution_count": null,
      "outputs": [
        {
          "output_type": "stream",
          "name": "stdout",
          "text": [
            "58.90% \n",
            " -12.50% \n",
            " 31.03%\n"
          ]
        }
      ]
    },
    {
      "cell_type": "code",
      "source": [
        "# Variancia do A feita, ok\n",
        "# Lista das peças abaixo da média de seu tipo"
      ],
      "metadata": {
        "id": "L5sMPBG5dxg3"
      },
      "execution_count": null,
      "outputs": []
    },
    {
      "cell_type": "code",
      "source": [
        "# Comparação dos dados com as somas\n",
        "maiores = []\n",
        "menores_ou_iguais = []\n",
        "\n",
        "for i in range(linhas):\n",
        "    for j in range(colunas):\n",
        "        produto = chr(65 + i)  # 'A', 'B', ...\n",
        "        valor = dados[i, j]\n",
        "        soma = somas[i]\n",
        "        if valor > soma:\n",
        "            maiores.append((produto, j+1, valor))\n",
        "        else:\n",
        "            menores_ou_iguais.append((produto, j+1, valor))\n",
        "\n",
        "print(\"\\nValores maiores que a soma das médias:\")\n",
        "for produto, semana, valor in maiores:\n",
        "    print(f\"Peça {produto}, Semana {semana}: {valor}\")\n",
        "\n",
        "print(\"\\nValores menores ou iguais à soma das médias:\")\n",
        "for produto, semana, valor in menores_ou_iguais:\n",
        "    print(f\"Peça {produto}, Semana {semana}: {valor}\")"
      ],
      "metadata": {
        "colab": {
          "base_uri": "https://localhost:8080/"
        },
        "id": "sgpbVfied_mv",
        "outputId": "98e0eaa8-e08b-4fe0-e424-2438a6c11d9f"
      },
      "execution_count": null,
      "outputs": [
        {
          "output_type": "stream",
          "name": "stdout",
          "text": [
            "\n",
            "Valores maiores que a soma das médias:\n",
            "Peça A, Semana 2: 232\n",
            "Peça A, Semana 3: 203\n",
            "Peça A, Semana 4: 266\n",
            "Peça B, Semana 1: 181\n",
            "Peça B, Semana 2: 197\n",
            "Peça B, Semana 4: 255\n",
            "Peça C, Semana 1: 192\n",
            "Peça C, Semana 2: 156\n",
            "Peça C, Semana 4: 224\n",
            "\n",
            "Valores menores ou iguais à soma das médias:\n",
            "Peça A, Semana 1: 146\n",
            "Peça B, Semana 3: 120\n",
            "Peça C, Semana 3: 142\n"
          ]
        }
      ]
    }
  ]
}