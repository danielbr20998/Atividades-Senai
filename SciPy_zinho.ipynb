{
  "nbformat": 4,
  "nbformat_minor": 0,
  "metadata": {
    "colab": {
      "provenance": [],
      "authorship_tag": "ABX9TyNEHtyg8UaA49HUxm/751Hv",
      "include_colab_link": true
    },
    "kernelspec": {
      "name": "python3",
      "display_name": "Python 3"
    },
    "language_info": {
      "name": "python"
    }
  },
  "cells": [
    {
      "cell_type": "markdown",
      "metadata": {
        "id": "view-in-github",
        "colab_type": "text"
      },
      "source": [
        "<a href=\"https://colab.research.google.com/github/danielbr20998/Atividades-Senai/blob/main/SciPy_zinho.ipynb\" target=\"_parent\"><img src=\"https://colab.research.google.com/assets/colab-badge.svg\" alt=\"Open In Colab\"/></a>"
      ]
    },
    {
      "cell_type": "code",
      "source": [
        "# Conhecendo a SciPy\n",
        "\n",
        "import numpy as np\n",
        "import matplotlib.pyplot as plt\n",
        "from scipy.integrate import solve_ivp\n",
        "from scipy.optimize import minimize"
      ],
      "metadata": {
        "id": "FDuBEXae-eMw"
      },
      "execution_count": 136,
      "outputs": []
    },
    {
      "cell_type": "code",
      "source": [
        "# Equação a função y' = -2 * y com y(0)=1\n",
        "# Função que representa a derivada em relação a t (variavel)\n",
        "def dydt (t,y):\n",
        "  return - 2 * y"
      ],
      "metadata": {
        "id": "kan5rCzu_jjr"
      },
      "execution_count": 137,
      "outputs": []
    },
    {
      "cell_type": "code",
      "source": [
        "#Condições iniciais:\n",
        "y0 = [1]\n",
        "t_span = (0,5) # Intervalo de tempo"
      ],
      "metadata": {
        "id": "fN1Zif2wDVM4"
      },
      "execution_count": 138,
      "outputs": []
    },
    {
      "cell_type": "code",
      "source": [
        "# Resolução da equação\n",
        "solution = solve_ivp(dydt,t_span,y0,t_eval=np.linspace(0,5,100))"
      ],
      "metadata": {
        "id": "0m7jJ-uwDjNP"
      },
      "execution_count": 139,
      "outputs": []
    },
    {
      "cell_type": "code",
      "source": [
        "solution"
      ],
      "metadata": {
        "colab": {
          "base_uri": "https://localhost:8080/"
        },
        "id": "MwyeQFoSEGQ8",
        "outputId": "1e96f295-bdf2-4aa2-ad4e-60c670101099"
      },
      "execution_count": 140,
      "outputs": [
        {
          "output_type": "execute_result",
          "data": {
            "text/plain": [
              "  message: The solver successfully reached the end of the integration interval.\n",
              "  success: True\n",
              "   status: 0\n",
              "        t: [ 0.000e+00  5.051e-02 ...  4.949e+00  5.000e+00]\n",
              "        y: [[ 1.000e+00  9.039e-01 ...  5.058e-05  4.572e-05]]\n",
              "      sol: None\n",
              " t_events: None\n",
              " y_events: None\n",
              "     nfev: 74\n",
              "     njev: 0\n",
              "      nlu: 0"
            ]
          },
          "metadata": {},
          "execution_count": 140
        }
      ]
    },
    {
      "cell_type": "code",
      "source": [
        "plt.figure(figsize=(4,3))\n",
        "plt.plot(solution.t, solution.y[0], label='y(t)')\n",
        "plt.xlabel('Tempo t')\n",
        "plt.ylabel('y(t)')\n",
        "plt.title(\"Solução da equação diferencial y' = 2 * y\")\n",
        "plt.legend()\n",
        "plt.show()"
      ],
      "metadata": {
        "colab": {
          "base_uri": "https://localhost:8080/",
          "height": 333
        },
        "id": "rW58YFffE1p9",
        "outputId": "96aeb370-8ab2-4f05-a5cf-2f2266f7b777"
      },
      "execution_count": 141,
      "outputs": [
        {
          "output_type": "display_data",
          "data": {
            "text/plain": [
              "<Figure size 400x300 with 1 Axes>"
            ],
            "image/png": "[encoded data removed]"
          },
          "metadata": {}
        }
      ]
    },
    {
      "cell_type": "code",
      "source": [
        "# Encontrar o minimo da função f(x) = (x-3) ^2 + 4\n",
        "def f(x):\n",
        "  return (x-3) ** 2 + 4"
      ],
      "metadata": {
        "id": "5wbbVGfmGICd"
      },
      "execution_count": 142,
      "outputs": []
    },
    {
      "cell_type": "code",
      "source": [
        "x0=[0]"
      ],
      "metadata": {
        "id": "22towjghGdld"
      },
      "execution_count": 143,
      "outputs": []
    },
    {
      "cell_type": "code",
      "source": [
        "# Usaremos o metodo BFGS pra isso\n",
        "result = minimize(f, x0, method='BFGS')\n",
        "print('Valor mínimo de f(x):', result.fun)\n",
        "print('Valor de x que minimiza f(x):', result.x)"
      ],
      "metadata": {
        "colab": {
          "base_uri": "https://localhost:8080/"
        },
        "id": "7slVa2dhGnv8",
        "outputId": "bb7c42a5-1e08-4684-a343-ca35b842cb03"
      },
      "execution_count": 144,
      "outputs": [
        {
          "output_type": "stream",
          "name": "stdout",
          "text": [
            "Valor mínimo de f(x): 4.000000000000001\n",
            "Valor de x que minimiza f(x): [3.00000003]\n"
          ]
        }
      ]
    },
    {
      "cell_type": "code",
      "source": [],
      "metadata": {
        "id": "k0DdDtIrJWYM"
      },
      "execution_count": 144,
      "outputs": []
    }
  ]
}