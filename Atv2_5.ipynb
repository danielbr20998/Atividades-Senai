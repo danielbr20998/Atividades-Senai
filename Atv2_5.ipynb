{
  "nbformat": 4,
  "nbformat_minor": 0,
  "metadata": {
    "colab": {
      "provenance": [],
      "authorship_tag": "ABX9TyNDS1FUR4uwVE8qPRkjbFXX",
      "include_colab_link": true
    },
    "kernelspec": {
      "name": "python3",
      "display_name": "Python 3"
    },
    "language_info": {
      "name": "python"
    }
  },
  "cells": [
    {
      "cell_type": "markdown",
      "metadata": {
        "id": "view-in-github",
        "colab_type": "text"
      },
      "source": [
        "<a href=\"https://colab.research.google.com/github/danielbr20998/Atividades-Senai/blob/main/Atv2_5.ipynb\" target=\"_parent\"><img src=\"https://colab.research.google.com/assets/colab-badge.svg\" alt=\"Open In Colab\"/></a>"
      ]
    },
    {
      "cell_type": "code",
      "execution_count": null,
      "metadata": {
        "id": "SPU5g_RdDL8M"
      },
      "outputs": [],
      "source": [
        "# ATV 2= Calculo de notas:\n",
        "# <> Media abaixo de 5\n",
        "# --> REPROVADO\n",
        "# <> Média entre 5 e 6.9\n",
        "# --> RECUPERACAO\n",
        "# <> Média acima de 7\n",
        "# --> APROVADO\n",
        "import statistics as st"
      ]
    },
    {
      "cell_type": "code",
      "source": [
        "n1 = input('digite a nota 1: ')\n",
        "n2 = input('digite a nota 2: ')\n",
        "n3 = input('digite a nota 3: ')\n",
        "n4 = input('digite a nota 4: ')\n",
        "n5 = input('digite a nota 5: ')\n",
        "media = (float(n1) + float(n2) + float(n3) + float(n4) + float(n5))/5\n",
        "print(media)\n",
        "if media < 5:\n",
        "  print('REPROVADO')\n",
        "elif media == 5 or media < 6.9:\n",
        "  print('RECUPERAÇÃO')\n",
        "elif media == 7 or media > 7.1:\n",
        "  print('APROVADO')"
      ],
      "metadata": {
        "colab": {
          "base_uri": "https://localhost:8080/"
        },
        "id": "OAy-NVIlVrgs",
        "outputId": "c3345d11-d92a-4a33-8732-51ac643cff15"
      },
      "execution_count": null,
      "outputs": [
        {
          "output_type": "stream",
          "name": "stdout",
          "text": [
            "digite a nota 1: 5\n",
            "digite a nota 2: 6\n",
            "digite a nota 3: 7\n",
            "digite a nota 4: 8\n",
            "digite a nota 5: 3\n",
            "5.8\n",
            "RECUPERAÇÃO\n"
          ]
        }
      ]
    },
    {
      "cell_type": "code",
      "source": [
        "# ATV 3 = Calculo de media com encerramento em 0\n",
        "# Crie um programa que irá receber valores, o usuário poderá digitar\n",
        "# quantos valores ele quiser até ele digitar 0 mostre em tela os valores\n",
        "# digitados e sua média"
      ],
      "metadata": {
        "id": "0yo5lKMDWScX"
      },
      "execution_count": null,
      "outputs": []
    },
    {
      "cell_type": "code",
      "source": [
        "valores = []\n",
        "soma = 0\n",
        "while True:\n",
        "    valor = float(input(\"Digite um valor, digite 0 para sair: \"))\n",
        "    if valor == 0:\n",
        "        break\n",
        "    valores.append(valor)\n",
        "    soma += valor\n",
        "print(\"Valores digitados:\", valores)\n",
        "if valores:\n",
        "    media = soma / len(valores)\n",
        "    print(\"Média dos valores:\", media)\n",
        "else:\n",
        "    print(\"Nenhum valor foi digitado.\")"
      ],
      "metadata": {
        "colab": {
          "base_uri": "https://localhost:8080/"
        },
        "id": "xsDoYE26bXAF",
        "outputId": "ac7ef94d-b2d0-4cc7-d153-80a229839f40"
      },
      "execution_count": null,
      "outputs": [
        {
          "output_type": "stream",
          "name": "stdout",
          "text": [
            "Digite um valor, digite 0 para sair: 22\n",
            "Digite um valor, digite 0 para sair: 4\n",
            "Digite um valor, digite 0 para sair: 5\n",
            "Digite um valor, digite 0 para sair: 3\n",
            "Digite um valor, digite 0 para sair: 1\n",
            "Digite um valor, digite 0 para sair: 0\n",
            "Valores digitados: [22.0, 4.0, 5.0, 3.0, 1.0]\n",
            "Média dos valores: 7.0\n"
          ]
        }
      ]
    },
    {
      "cell_type": "code",
      "source": [
        "# ATV 4 e 5 = Moda, Desvio e Variancia\n",
        "# autoexplicativo demais pra uma descrição"
      ],
      "metadata": {
        "id": "gagdnLGzBd88"
      },
      "execution_count": null,
      "outputs": []
    },
    {
      "cell_type": "code",
      "source": [
        "# Lista_de_valores\n",
        "\n",
        "valores = [ 1 , 7 , 3 , 8 , 6 , 1 , 7 , 7 , 0 , 3 , 6 , 7 , 1 , 7 ,\n",
        "8 , 0 , 7 , 3 , 1 , 6 , 3 , 1 , 3 , 7 , 6 , 9 , 7 , 7 , 3 , 7 , 0 , 7 , 1 , 7 ,\n",
        "9 , 35 , 37 , 36 , 34 , 38 , 35 , 37 , 37 , 33 , 36 ,\n",
        "38 , 37 , 35 , 37 , 34 , 33 , 37 , 36 , 35 , 38 , 36 , 35 , 36 , 37 , 38 ,\n",
        "39 , 37 , 37 , 36 , 37 , 33 , 37 , 35 , 37 , 39]"
      ],
      "metadata": {
        "id": "nEyWxZTOB1E3"
      },
      "execution_count": null,
      "outputs": []
    },
    {
      "cell_type": "code",
      "source": [
        "moda = st.mode(valores)\n",
        "print('A moda dos valores é o número', moda)\n",
        "desvio = st.stdev(valores)\n",
        "print('\\nO desvio padrão dos valores é', desvio)\n",
        "variancia = st.variance(valores)\n",
        "print('\\nA variancia dos valores é', variancia)"
      ],
      "metadata": {
        "colab": {
          "base_uri": "https://localhost:8080/"
        },
        "id": "ST0yY1ayCIfl",
        "outputId": "8091cb43-0f0f-440d-a024-9f2ce53c2a19"
      },
      "execution_count": null,
      "outputs": [
        {
          "output_type": "stream",
          "name": "stdout",
          "text": [
            "A moda dos valores é o número 7\n",
            "\n",
            "O desvio padrão dos valores é 16.015139059309693\n",
            "\n",
            "A variancia dos valores é 256.48467908902694\n"
          ]
        }
      ]
    }
  ]
}