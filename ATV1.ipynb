{
  "nbformat": 4,
  "nbformat_minor": 0,
  "metadata": {
    "colab": {
      "provenance": [],
      "authorship_tag": "ABX9TyMkUPau6/LEVLnzWaBAZC4I",
      "include_colab_link": true
    },
    "kernelspec": {
      "name": "python3",
      "display_name": "Python 3"
    },
    "language_info": {
      "name": "python"
    }
  },
  "cells": [
    {
      "cell_type": "markdown",
      "metadata": {
        "id": "view-in-github",
        "colab_type": "text"
      },
      "source": [
        "<a href=\"https://colab.research.google.com/github/danielbr20998/Atividades-Senai/blob/main/ATV1.ipynb\" target=\"_parent\"><img src=\"https://colab.research.google.com/assets/colab-badge.svg\" alt=\"Open In Colab\"/></a>"
      ]
    },
    {
      "cell_type": "code",
      "execution_count": null,
      "metadata": {
        "id": "SPU5g_RdDL8M"
      },
      "outputs": [],
      "source": [
        "# Primeiro_exercício\n",
        "import statistics as st"
      ]
    },
    {
      "cell_type": "code",
      "source": [
        "compras_app = [\n",
        "    55.20, 78.50, 45.00, 120.30, 62.80, 91.00, 88.40, 50.00, 75.10, 105.00,\n",
        "    60.50, 70.00, 95.00, 110.00, 80.00, 68.20, 59.90, 82.00, 98.70, 72.30,\n",
        "    130.00, 65.00, 85.00, 77.00, 90.00\n",
        "]\n",
        "\n",
        "compras_web = [\n",
        "    40.00, 60.10, 35.50, 80.00, 52.00, 70.00, 65.80, 48.00, 58.90, 72.00,\n",
        "    45.50, 55.00, 68.00, 75.00, 63.00, 42.00, 50.00, 60.00, 71.00, 53.00,\n",
        "    90.00, 49.00, 67.00, 56.00, 69.00, 70.00, 55.00, 62.00, 78.00, 51.00\n",
        "]\n"
      ],
      "metadata": {
        "id": "IUiAC_0AEbav"
      },
      "execution_count": null,
      "outputs": []
    },
    {
      "cell_type": "code",
      "source": [
        "numero_compras_app = len(compras_app)\n",
        "numero_compras_web = len(compras_web)\n",
        "print('numero_compras_app', numero_compras_app)\n",
        "print('numero_compras_web', numero_compras_web)"
      ],
      "metadata": {
        "colab": {
          "base_uri": "https://localhost:8080/"
        },
        "id": "UMzVoiLHFFv5",
        "outputId": "bd5fcb46-b286-4254-80ea-9e54c1d07508"
      },
      "execution_count": null,
      "outputs": [
        {
          "output_type": "stream",
          "name": "stdout",
          "text": [
            "numero_compras_app 25\n",
            "numero_compras_web 30\n"
          ]
        }
      ]
    },
    {
      "cell_type": "code",
      "source": [
        "media_app = st.mean(compras_app)\n",
        "media_web = st.mean(compras_web)\n",
        "print('media do app', media_app)\n",
        "print('media da web', media_web)"
      ],
      "metadata": {
        "colab": {
          "base_uri": "https://localhost:8080/"
        },
        "id": "Wie0EOHTGQ2W",
        "outputId": "484d8a4e-c385-43f0-f604-514f270c43af"
      },
      "execution_count": null,
      "outputs": [
        {
          "output_type": "stream",
          "name": "stdout",
          "text": [
            "media do app 80.596\n",
            "media da web 60.39333333333333\n"
          ]
        }
      ]
    },
    {
      "cell_type": "code",
      "source": [
        "mediana_app = st.median(compras_app)\n",
        "mediana_web = st.median(compras_web)\n",
        "print('mediana do app', mediana_app)\n",
        "print('mediana da web', mediana_web)"
      ],
      "metadata": {
        "colab": {
          "base_uri": "https://localhost:8080/"
        },
        "id": "D0KnqtQQHaG2",
        "outputId": "ef8f0dbe-b7fd-4e08-9810-3a7dff9f8adc"
      },
      "execution_count": null,
      "outputs": [
        {
          "output_type": "stream",
          "name": "stdout",
          "text": [
            "mediana do app 78.5\n",
            "mediana da web 60.05\n"
          ]
        }
      ]
    },
    {
      "cell_type": "code",
      "source": [
        "moda_app = st.mode(compras_app)\n",
        "moda_web = st.mode(compras_web)\n",
        "print('moda de data-app', moda_app)\n",
        "print('moda de data-web', moda_web)"
      ],
      "metadata": {
        "colab": {
          "base_uri": "https://localhost:8080/"
        },
        "id": "99cQauTJHz4U",
        "outputId": "31b3f52d-3e29-406a-b190-47fd98cf3370"
      },
      "execution_count": null,
      "outputs": [
        {
          "output_type": "stream",
          "name": "stdout",
          "text": [
            "moda de data-app 55.2\n",
            "moda de data-web 70.0\n"
          ]
        }
      ]
    },
    {
      "cell_type": "code",
      "source": [
        "min_app = min(compras_app)\n",
        "min_web = min(compras_web)\n",
        "print('minimo de compras app', min_app)\n",
        "print('minimo de compras web', min_web)"
      ],
      "metadata": {
        "colab": {
          "base_uri": "https://localhost:8080/"
        },
        "id": "hu5VOBclIAXm",
        "outputId": "9ac23cfa-9f4a-40a9-c8fa-08f2555ac8fe"
      },
      "execution_count": null,
      "outputs": [
        {
          "output_type": "stream",
          "name": "stdout",
          "text": [
            "minimo de compras app 45.0\n",
            "minimo de compras web 35.5\n"
          ]
        }
      ]
    },
    {
      "cell_type": "code",
      "source": [
        "max_app = max(compras_app)\n",
        "max_web = max(compras_web)\n",
        "print('maximo de compras app', max_app)\n",
        "print('maximo de compras web', max_web)"
      ],
      "metadata": {
        "colab": {
          "base_uri": "https://localhost:8080/"
        },
        "id": "7ogau_7cIcLR",
        "outputId": "166a1b92-b4f2-4932-b342-e9f955fbf72d"
      },
      "execution_count": null,
      "outputs": [
        {
          "output_type": "stream",
          "name": "stdout",
          "text": [
            "maximo de compras app 130.0\n",
            "maximo de compras web 90.0\n"
          ]
        }
      ]
    },
    {
      "cell_type": "code",
      "source": [
        "desvio_padrao_app = st.stdev(compras_app)\n",
        "desvio_padrao_web = st.stdev(compras_web)\n",
        "print('desvio padrao do app', desvio_padrao_app)\n",
        "print('desvio padrao da web', desvio_padrao_web)"
      ],
      "metadata": {
        "colab": {
          "base_uri": "https://localhost:8080/"
        },
        "id": "OZ9SUQhIIfuy",
        "outputId": "c1ddee4d-7d66-49d3-f197-3056078ab178"
      },
      "execution_count": null,
      "outputs": [
        {
          "output_type": "stream",
          "name": "stdout",
          "text": [
            "desvio padrao do app 21.325248728522098\n",
            "desvio padrao da web 12.74513925826798\n"
          ]
        }
      ]
    },
    {
      "cell_type": "code",
      "source": [
        "variancia_app = st.variance(compras_app)\n",
        "variancia_web = st.variance(compras_web)\n",
        "print('variancia do app', variancia_app)\n",
        "print('variancia da web', variancia_web)"
      ],
      "metadata": {
        "colab": {
          "base_uri": "https://localhost:8080/"
        },
        "id": "OT2eYHPLJBWm",
        "outputId": "1773cb23-3236-4e58-ee87-2668981c147d"
      },
      "execution_count": null,
      "outputs": [
        {
          "output_type": "stream",
          "name": "stdout",
          "text": [
            "variancia do app 454.76623333333333\n",
            "variancia da web 162.43857471264369\n"
          ]
        }
      ]
    },
    {
      "cell_type": "code",
      "source": [],
      "metadata": {
        "id": "Y_JIvtS3JK-s"
      },
      "execution_count": null,
      "outputs": []
    }
  ]
}