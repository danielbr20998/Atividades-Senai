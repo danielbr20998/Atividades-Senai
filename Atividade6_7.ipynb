{
  "nbformat": 4,
  "nbformat_minor": 0,
  "metadata": {
    "colab": {
      "provenance": [],
      "authorship_tag": "ABX9TyM8nJrqDaSu6iUibIHLs6UQ",
      "include_colab_link": true
    },
    "kernelspec": {
      "name": "python3",
      "display_name": "Python 3"
    },
    "language_info": {
      "name": "python"
    }
  },
  "cells": [
    {
      "cell_type": "markdown",
      "metadata": {
        "id": "view-in-github",
        "colab_type": "text"
      },
      "source": [
        "<a href=\"https://colab.research.google.com/github/danielbr20998/Atividades-Senai/blob/main/Atividade6_7.ipynb\" target=\"_parent\"><img src=\"https://colab.research.google.com/assets/colab-badge.svg\" alt=\"Open In Colab\"/></a>"
      ]
    },
    {
      "cell_type": "code",
      "source": [
        "import statistics as st"
      ],
      "metadata": {
        "id": "MHdVJbU4Ju1w"
      },
      "execution_count": null,
      "outputs": []
    },
    {
      "cell_type": "code",
      "execution_count": null,
      "metadata": {
        "id": "dN1q1bokJqFs"
      },
      "outputs": [],
      "source": [
        "#ATV 6 = avaliaçoes de produtos num e-commerce\n",
        "# 1-5 estrelas"
      ]
    },
    {
      "cell_type": "code",
      "source": [
        "import statistics as st\n",
        "import random as ran"
      ],
      "metadata": {
        "id": "CxbrOWPGcyBq"
      },
      "execution_count": null,
      "outputs": []
    },
    {
      "cell_type": "code",
      "source": [
        "avaliacoes = [ran.randint(1, 5) for i in range(50)]\n",
        "print(avaliacoes)"
      ],
      "metadata": {
        "colab": {
          "base_uri": "https://localhost:8080/"
        },
        "id": "9njwdEhAc8Es",
        "outputId": "d0119dc6-6e0b-45bb-bab7-e7f34cdeafb8"
      },
      "execution_count": null,
      "outputs": [
        {
          "output_type": "stream",
          "name": "stdout",
          "text": [
            "[1, 4, 4, 5, 5, 4, 4, 4, 5, 2, 4, 3, 1, 4, 3, 2, 1, 5, 4, 2, 3, 4, 3, 3, 3, 2, 1, 1, 3, 4, 2, 1, 4, 2, 3, 1, 2, 1, 4, 2, 5, 5, 1, 3, 4, 5, 5, 5, 5, 1]\n"
          ]
        }
      ]
    },
    {
      "cell_type": "code",
      "source": [
        "moda_das_avaliacoes = st.mode(avaliacoes)\n",
        "print('\\nModa das avaliaçoes:', moda_das_avaliacoes)"
      ],
      "metadata": {
        "colab": {
          "base_uri": "https://localhost:8080/"
        },
        "id": "B7Zlp9X2jea_",
        "outputId": "472ebfab-3c68-42dc-e83c-95fa0546e010"
      },
      "execution_count": null,
      "outputs": [
        {
          "output_type": "stream",
          "name": "stdout",
          "text": [
            "\n",
            "Moda das avaliaçoes: 4\n"
          ]
        }
      ]
    },
    {
      "cell_type": "code",
      "source": [
        "desvio = st.stdev(avaliacoes)\n",
        "print('Desvio das avaliações: ',desvio)"
      ],
      "metadata": {
        "colab": {
          "base_uri": "https://localhost:8080/"
        },
        "id": "tu8-n1BbkIzU",
        "outputId": "2abd2d6c-485f-40d0-ef62-8fa4fd254f17"
      },
      "execution_count": null,
      "outputs": [
        {
          "output_type": "stream",
          "name": "stdout",
          "text": [
            "Desvio das avaliações:  1.4321384039831015\n"
          ]
        }
      ]
    },
    {
      "cell_type": "code",
      "source": [
        "media = st.mean(avaliacoes)\n",
        "mediana = st.median(avaliacoes)\n",
        "print('Média', media)\n",
        "print('Mediana', mediana)"
      ],
      "metadata": {
        "id": "lnbmXIg-kckJ",
        "colab": {
          "base_uri": "https://localhost:8080/"
        },
        "outputId": "ce42bfc6-ce0d-47c9-c685-ef04b158c2fe"
      },
      "execution_count": null,
      "outputs": [
        {
          "output_type": "stream",
          "name": "stdout",
          "text": [
            "Média 3.1\n",
            "Mediana 3.0\n"
          ]
        }
      ]
    },
    {
      "cell_type": "code",
      "source": [
        "if media == 1 or media <= 2:\n",
        "  print('A avaliação média é ruim')\n",
        "elif media >= 3 or media <= 4:\n",
        "  print('A avaliação média é mediana')\n",
        "elif media >= 4 or media == 5:\n",
        "  print('A avaliação média é boa')"
      ],
      "metadata": {
        "colab": {
          "base_uri": "https://localhost:8080/"
        },
        "id": "h2RewbBdjg_6",
        "outputId": "366bb7ea-54a3-429f-c336-4fc0f6991603"
      },
      "execution_count": null,
      "outputs": [
        {
          "output_type": "stream",
          "name": "stdout",
          "text": [
            "A avaliação média é mediana\n"
          ]
        }
      ]
    },
    {
      "cell_type": "code",
      "source": [
        "# ATV 7 =  dados de temperatura média (em °C) de uma cidade durante os 7 dias da semana:"
      ],
      "metadata": {
        "id": "0fd-Oy5ykWoY"
      },
      "execution_count": null,
      "outputs": []
    },
    {
      "cell_type": "code",
      "source": [
        "import numpy as np"
      ],
      "metadata": {
        "id": "Vigxg44okwIW"
      },
      "execution_count": null,
      "outputs": []
    },
    {
      "cell_type": "code",
      "source": [
        "temperaturas = np.array([22.5, 24.0, 19.8, 21.4, 23.0, 25.1, 20.7])\n",
        "dias = np.array([\"Seg\", \"Ter\", \"Qua\", \"Qui\", \"Sex\", \"Sáb\", \"Dom\"])\n",
        "for dia, temp in zip(dias, temperaturas):\n",
        "    print(f\"{dia}: {temp}°C\")"
      ],
      "metadata": {
        "colab": {
          "base_uri": "https://localhost:8080/"
        },
        "id": "DlGGcUL4kx95",
        "outputId": "d782d217-f148-47da-97d1-a1d0f2231303"
      },
      "execution_count": null,
      "outputs": [
        {
          "output_type": "stream",
          "name": "stdout",
          "text": [
            "Seg: 22.5°C\n",
            "Ter: 24.0°C\n",
            "Qua: 19.8°C\n",
            "Qui: 21.4°C\n",
            "Sex: 23.0°C\n",
            "Sáb: 25.1°C\n",
            "Dom: 20.7°C\n"
          ]
        }
      ]
    },
    {
      "cell_type": "code",
      "source": [
        "# Com base nesses dados, responda:\n",
        "# Qual foi a temperatura média da semana?\n",
        "# Qual foi a temperatura máxima e em que dia ocorreu?\n",
        "# Quais dias tiveram temperatura acima da média?"
      ],
      "metadata": {
        "id": "QFjahtjsk8e9"
      },
      "execution_count": null,
      "outputs": []
    },
    {
      "cell_type": "code",
      "source": [
        "media_temp = st.mean(temperaturas)\n",
        "print('A temperatura média da semana foi de: ', media_temp)\n",
        "indice_max = np.argmax(temperaturas)\n",
        "maxima_temp = temperaturas[indice_max]\n",
        "dia_max = dias[indice_max]\n",
        "print(f'\\nA temperatura máxima foi de {maxima_temp}°C no dia {dia_max}')"
      ],
      "metadata": {
        "colab": {
          "base_uri": "https://localhost:8080/"
        },
        "id": "rPno6SkelSod",
        "outputId": "2525b37c-ef35-4324-cfa2-c5b1b6b328bb"
      },
      "execution_count": null,
      "outputs": [
        {
          "output_type": "stream",
          "name": "stdout",
          "text": [
            "A temperatura média da semana foi de:  22.357142857142858\n",
            "\n",
            "A temperatura máxima foi de 25.1°C no dia Sáb\n"
          ]
        }
      ]
    },
    {
      "cell_type": "code",
      "source": [
        "comparaçao = temperaturas > media_temp\n",
        "dias_acima_media = dias[comparaçao]\n",
        "print('Os dias que tiveram temperatura acima da média foram: ', dias_acima_media)"
      ],
      "metadata": {
        "colab": {
          "base_uri": "https://localhost:8080/"
        },
        "id": "78B55o6km9dC",
        "outputId": "28508d19-9eac-4379-c20a-edb5e4a58c4b"
      },
      "execution_count": null,
      "outputs": [
        {
          "output_type": "stream",
          "name": "stdout",
          "text": [
            "Os dias que tiveram temperatura acima da média foram:  ['Seg' 'Ter' 'Sex' 'Sáb']\n"
          ]
        }
      ]
    },
    {
      "cell_type": "code",
      "source": [
        "# Crie um novo array com as temperaturas convertidas para Fahrenheit.\n",
        "# Fórmula: F = C * 1.8 + 32\n",
        "# Substitua a temperatura de domingo para 22.0°C e recalcule a média."
      ],
      "metadata": {
        "id": "f5HNYWU-r0sh"
      },
      "execution_count": null,
      "outputs": []
    },
    {
      "cell_type": "code",
      "source": [
        "Fahrenheit = temperaturas * 1.8 + 32\n",
        "print('As temperaturas em Fahrenheit são: ', Fahrenheit)\n",
        "for dia, far in zip(dias, Fahrenheit):\n",
        "    print(f\"{dia}: {far}°F\")"
      ],
      "metadata": {
        "colab": {
          "base_uri": "https://localhost:8080/"
        },
        "id": "DUlZMe6KsHuU",
        "outputId": "253fc50c-f8da-4a45-fd9f-518fe1cd5d4b"
      },
      "execution_count": null,
      "outputs": [
        {
          "output_type": "stream",
          "name": "stdout",
          "text": [
            "As temperaturas em Fahrenheit são:  [72.5  75.2  67.64 70.52 73.4  77.18 69.26]\n",
            "Seg: 72.5°F\n",
            "Ter: 75.2°F\n",
            "Qua: 67.64°F\n",
            "Qui: 70.52°F\n",
            "Sex: 73.4°F\n",
            "Sáb: 77.18°F\n",
            "Dom: 69.25999999999999°F\n"
          ]
        }
      ]
    },
    {
      "cell_type": "code",
      "source": [
        "temperaturas[6:7] = 22\n",
        "print(temperaturas)\n"
      ],
      "metadata": {
        "colab": {
          "base_uri": "https://localhost:8080/"
        },
        "id": "48Zm_RY7tLs5",
        "outputId": "736791c5-8988-4912-cf7e-4d4b6a386ca5"
      },
      "execution_count": null,
      "outputs": [
        {
          "output_type": "stream",
          "name": "stdout",
          "text": [
            "[22.5 24.  19.8 21.4 23.  25.1 22. ]\n"
          ]
        }
      ]
    },
    {
      "cell_type": "code",
      "source": [
        "media2 = st.mean(temperaturas)\n",
        "print('A nova média das temperaturas, com este dado alterado, é: ', media2)"
      ],
      "metadata": {
        "colab": {
          "base_uri": "https://localhost:8080/"
        },
        "id": "ObAGQn16uuFL",
        "outputId": "abac180f-3bb2-4d94-e4d3-868bd0648e4c"
      },
      "execution_count": null,
      "outputs": [
        {
          "output_type": "stream",
          "name": "stdout",
          "text": [
            "A nova média das temperaturas, com este dado alterado, é:  22.542857142857144\n"
          ]
        }
      ]
    }
  ]
}